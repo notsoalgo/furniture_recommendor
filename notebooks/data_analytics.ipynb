{
 "cells": [
  {
   "cell_type": "markdown",
   "metadata": {},
   "source": [
    "# Furniture Product Data Analytics\n",
    "\n",
    "This notebook performs exploratory data analysis (EDA) on the furniture product dataset.\n",
    "We will analyze product brands, pricing distributions, and other key characteristics to understand\n",
    "the data before building our recommendation system."
   ]
  },
  {
   "cell_type": "markdown",
   "metadata": {},
   "source": [
    "## Step 1: Import Required Libraries\n",
    "\n",
    "We import pandas for data manipulation and plotly for interactive visualizations."
   ]
  },
  {
   "cell_type": "code",
   "execution_count": null,
   "metadata": {},
   "outputs": [],
   "source": [
    "import pandas as pd\n",
    "import plotly.express as px\n",
    "import plotly.graph_objects as go\n",
    "from plotly.subplots import make_subplots\n",
    "import warnings\n",
    "warnings.filterwarnings('ignore')\n",
    "\n",
    "print(\"✓ Libraries imported successfully\")"
   ]
  },
  {
   "cell_type": "markdown",
   "metadata": {},
   "source": [
    "## Step 2: Load the Dataset\n",
    "\n",
    "Loading the furniture dataset from Google Drive. This dataset contains product information including\n",
    "titles, descriptions, prices, brands, images, and other metadata."
   ]
  },
  {
   "cell_type": "code",
   "execution_count": null,
   "metadata": {},
   "outputs": [],
   "source": [
    "# Load dataset from Google Drive URL\n",
    "url = \"https://drive.google.com/uc?export=download&id=1uD1UMXT2-13GQkbH9NmEOyUVI-zKyl6\"\n",
    "\n",
    "try:\n",
    "    df = pd.read_csv(url)\n",
    "    print(f\"✓ Dataset loaded successfully\")\n",
    "    print(f\"✓ Total records: {len(df):,}\")\n",
    "except Exception as e:\n",
    "    print(f\"Error loading dataset: {e}\")\n",
    "    print(\"Please check the URL or your internet connection\")"
   ]
  },
  {
   "cell_type": "markdown",
   "metadata": {},
   "source": [
    "## Step 3: Initial Data Exploration\n",
    "\n",
    "Let's examine the structure and content of our dataset to understand what we're working with."
   ]
  },
  {
   "cell_type": "code",
   "execution_count": null,
   "metadata": {},
   "outputs": [],
   "source": [
    "# Display first few rows\n",
    "print(\"=\" * 80)\n",
    "print(\"DATASET PREVIEW (First 5 rows)\")\n",
    "print(\"=\" * 80)\n",
    "display(df.head())"
   ]
  },
  {
   "cell_type": "code",
   "execution_count": null,
   "metadata": {},
   "outputs": [],
   "source": [
    "# Display dataset information\n",
    "print(\"\\n\" + \"=\" * 80)\n",
    "print(\"DATASET INFORMATION\")\n",
    "print(\"=\" * 80)\n",
    "print(f\"\\nShape: {df.shape[0]} rows × {df.shape[1]} columns\\n\")\n",
    "df.info()"
   ]
  },
  {
   "cell_type": "code",
   "execution_count": null,
   "metadata": {},
   "outputs": [],
   "source": [
    "# Check for missing values\n",
    "print(\"\\n\" + \"=\" * 80)\n",
    "print(\"MISSING VALUES ANALYSIS\")\n",
    "print(\"=\" * 80)\n",
    "\n",
    "missing_data = pd.DataFrame({\n",
    "    'Column': df.columns,\n",
    "    'Missing Count': df.isnull().sum().values,\n",
    "    'Missing %': (df.isnull().sum().values / len(df) * 100).round(2)\n",
    "})\n",
    "\n",
    "missing_data = missing_data[missing_data['Missing Count'] > 0].sort_values('Missing Count', ascending=False)\n",
    "\n",
    "if len(missing_data) > 0:\n",
    "    display(missing_data)\n",
    "else:\n",
    "    print(\"✓ No missing values found in the dataset!\")"
   ]
  },
  {
   "cell_type": "markdown",
   "metadata": {},
   "source": [
    "## Step 4: Statistical Summary\n",
    "\n",
    "Understanding the distribution and basic statistics of numerical columns, particularly pricing."
   ]
  },
  {
   "cell_type": "code",
   "execution_count": null,
   "metadata": {},
   "outputs": [],
   "source": [
    "# Statistical summary for numerical columns\n",
    "print(\"=\" * 80)\n",
    "print(\"STATISTICAL SUMMARY\")\n",
    "print(\"=\" * 80)\n",
    "display(df.describe())"
   ]
  },
  {
   "cell_type": "markdown",
   "metadata": {},
   "source": [
    "## Step 5: Visualization 1 - Top 10 Product Brands\n",
    "\n",
    "This bar chart shows the distribution of products across the top 10 brands.\n",
    "Understanding brand distribution helps us identify popular manufacturers and potential\n",
    "biases in our recommendation system."
   ]
  },
  {
   "cell_type": "code",
   "execution_count": null,
   "metadata": {},
   "outputs": [],
   "source": [
    "# Calculate top 10 brands by product count\n",
    "top_brands = df['brand'].value_counts().head(10).reset_index()\n",
    "top_brands.columns = ['Brand', 'Product Count']\n",
    "\n",
    "# Create interactive bar chart\n",
    "fig = px.bar(\n",
    "    top_brands,\n",
    "    x='Brand',\n",
    "    y='Product Count',\n",
    "    title='Top 10 Furniture Brands by Product Count',\n",
    "    labels={'Brand': 'Brand Name', 'Product Count': 'Number of Products'},\n",
    "    color='Product Count',\n",
    "    color_continuous_scale='Teal',\n",
    "    text='Product Count'\n",
    ")\n",
    "\n",
    "# Customize layout\n",
    "fig.update_traces(textposition='outside')\n",
    "fig.update_layout(\n",
    "    xaxis_title='Brand',\n",
    "    yaxis_title='Number of Products',\n",
    "    showlegend=False,\n",
    "    height=500,\n",
    "    font=dict(size=12),\n",
    "    hovermode='x unified'\n",
    ")\n",
    "\n",
    "fig.show()\n",
    "\n",
    "print(f\"\\n✓ Top brand: {top_brands.iloc[0]['Brand']} with {top_brands.iloc[0]['Product Count']:,} products\")"
   ]
  },
  {
   "cell_type": "markdown",
   "metadata": {},
   "source": [
    "## Step 6: Visualization 2 - Price Distribution Analysis\n",
    "\n",
    "This histogram shows the distribution of product prices, excluding extreme outliers above $3000.\n",
    "Understanding price distribution is crucial for:\n",
    "- Setting appropriate price ranges in recommendations\n",
    "- Identifying pricing patterns and market segments\n",
    "- Detecting outliers and anomalies in the data"
   ]
  },
  {
   "cell_type": "code",
   "execution_count": null,
   "metadata": {},
   "outputs": [],
   "source": [
    "# Filter out extreme outliers (prices above $3000)\n",
    "price_threshold = 3000\n",
    "df_filtered = df[df['price'] <= price_threshold].copy()\n",
    "\n",
    "print(f\"Original dataset: {len(df):,} products\")\n",
    "print(f\"After filtering (price ≤ ${price_threshold}): {len(df_filtered):,} products\")\n",
    "print(f\"Outliers removed: {len(df) - len(df_filtered):,} products ({((len(df) - len(df_filtered)) / len(df) * 100):.2f}%)\")\n",
    "\n",
    "# Create histogram\n",
    "fig = px.histogram(\n",
    "    df_filtered,\n",
    "    x='price',\n",
    "    nbins=50,\n",
    "    title=f'Product Price Distribution (Prices ≤ ${price_threshold})',\n",
    "    labels={'price': 'Price (USD)', 'count': 'Number of Products'},\n",
    "    color_discrete_sequence=['#1a8b8b']\n",
    ")\n",
    "\n",
    "# Add mean and median lines\n",
    "mean_price = df_filtered['price'].mean()\n",
    "median_price = df_filtered['price'].median()\n",
    "\n",
    "fig.add_vline(\n",
    "    x=mean_price,\n",
    "    line_dash=\"dash\",\n",
    "    line_color=\"red\",\n",
    "    annotation_text=f\"Mean: ${mean_price:.2f}\",\n",
    "    annotation_position=\"top\"\n",
    ")\n",
    "\n",
    "fig.add_vline(\n",
    "    x=median_price,\n",
    "    line_dash=\"dash\",\n",
    "    line_color=\"blue\",\n",
    "    annotation_text=f\"Median: ${median_price:.2f}\",\n",
    "    annotation_position=\"top right\"\n",
    ")\n",
    "\n",
    "# Customize layout\n",
    "fig.update_layout(\n",
    "    xaxis_title='Price (USD)',\n",
    "    yaxis_title='Number of Products',\n",
    "    height=500,\n",
    "    showlegend=False,\n",
    "    hovermode='x unified'\n",
    ")\n",
    "\n",
    "fig.show()\n",
    "\n",
    "# Display price statistics\n",
    "print(\"\\n\" + \"=\" * 80)\n",
    "print(\"PRICE STATISTICS (Filtered Data)\")\n",
    "print(\"=\" * 80)\n",
    "print(f\"Mean Price: ${mean_price:.2f}\")\n",
    "print(f\"Median Price: ${median_price:.2f}\")\n",
    "print(f\"Min Price: ${df_filtered['price'].min():.2f}\")\n",
    "print(f\"Max Price: ${df_filtered['price'].max():.2f}\")\n",
    "print(f\"Standard Deviation: ${df_filtered['price'].std():.2f}\")"
   ]
  },
  {
   "cell_type": "markdown",
   "metadata": {},
   "source": [
    "## Step 7: Additional Insights - Category Analysis\n",
    "\n",
    "Understanding product categories helps inform our recommendation engine."
   ]
  },
  {
   "cell_type": "code",
   "execution_count": null,
   "metadata": {},
   "outputs": [],
   "source": [
    "# Analyze categories if column exists\n",
    "if 'categories' in df.columns:\n",
    "    print(\"=\" * 80)\n",
    "    print(\"CATEGORY ANALYSIS\")\n",
    "    print(\"=\" * 80)\n",
    "    \n",
    "    # Count unique categories\n",
    "    print(f\"\\nTotal unique categories: {df['categories'].nunique():,}\")\n",
    "    \n",
    "    # Top 10 categories\n",
    "    top_categories = df['categories'].value_counts().head(10)\n",
    "    print(\"\\nTop 10 Categories:\")\n",
    "    for idx, (category, count) in enumerate(top_categories.items(), 1):\n",
    "        print(f\"{idx}. {category}: {count:,} products\")\n",
    "else:\n",
    "    print(\"Categories column not found in dataset\")"
   ]
  },
  {
   "cell_type": "markdown",
   "metadata": {},
   "source": [
    "## Step 8: Data Quality Summary\n",
    "\n",
    "Final summary of data quality and readiness for the ML pipeline."
   ]
  },
  {
   "cell_type": "code",
   "execution_count": null,
   "metadata": {},
   "outputs": [],
   "source": [
    "print(\"=\" * 80)\n",
    "print(\"DATA QUALITY SUMMARY\")\n",
    "print(\"=\" * 80)\n",
    "print(f\"\\n✓ Total Products: {len(df):,}\")\n",
    "print(f\"✓ Total Columns: {len(df.columns)}\")\n",
    "print(f\"✓ Missing Values: {df.isnull().sum().sum():,} ({(df.isnull().sum().sum() / (len(df) * len(df.columns)) * 100):.2f}% of total cells)\")\n",
    "\n",
    "# Check key columns for ML pipeline\n",
    "key_columns = ['title', 'description', 'brand', 'price', 'images', 'uniq_id']\n",
    "print(\"\\nKey Columns for ML Pipeline:\")\n",
    "for col in key_columns:\n",
    "    if col in df.columns:\n",
    "        missing = df[col].isnull().sum()\n",
    "        status = \"✓\" if missing == 0 else f\"⚠ {missing} missing\"\n",
    "        print(f\"  {status} {col}\")\n",
    "    else:\n",
    "        print(f\"  ✗ {col} - NOT FOUND\")\n",
    "\n",
    "print(\"\\n\" + \"=\" * 80)\n",
    "print(\"✓ Data analytics complete! Ready to proceed with model training.\")\n",
    "print(\"=\" * 80)"
   ]
  }
 ],
 "metadata": {
  "kernelspec": {
   "display_name": "Python 3",
   "language": "python",
   "name": "python3"
  },
  "language_info": {
   "codemirror_mode": {
    "name": "ipython",
    "version": 3
   },
   "file_extension": ".py",
   "mimetype": "text/x-python",
   "name": "python",
   "nbconvert_exporter": "python",
   "pygments_lexer": "ipython3",
   "version": "3.11.13"
  }
 },
 "nbformat": 4,
 "nbformat_minor": 4
}
